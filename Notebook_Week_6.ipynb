{
 "cells": [
  {
   "cell_type": "markdown",
   "metadata": {},
   "source": [
    "<h1 style=\"color:#00A6D6;\">Week 6: Quantum Key Distribution Protocols</h1>\n",
    "\n",
    "This week we are at last concerned with quantum key distribution! In the Julia sheet you will investigate some properties of the BB84 and six-state QKD schemes. We will rely quite heavily on your Julia expertise developed over these past weeks regarding how to distinguish states, their trace distance and other properties. If you have not completed those yet, we suggest you go back and at least complete the sheets for Weeks 1-3!\n",
    "\n",
    "<b>Important: JuliaBox has updated their kernel again - this notebook is tested for Julia 0.4.7! Before you run this notebook, click on \"Kernel\" in the menu above. Then go to \"Change kernel\" and select \"Julia 0.4.7\". Have fun!</b>\n",
    "\n",
    "* <a href=\"#Dist\">BB84 vs. Six State protocols</a>\n",
    "* <a href=\"#Tra\"> QKD in the presence of noise</a>\n",
    "\n"
   ]
  },
  {
   "cell_type": "code",
   "execution_count": null,
   "metadata": {
    "collapsed": false
   },
   "outputs": [],
   "source": [
    "include(\"source/main.jl\");"
   ]
  },
  {
   "cell_type": "markdown",
   "metadata": {},
   "source": [
    "<a id=Dist></a>\n",
    "<h2 style=\"color:#00A6D6;\">BB84 vs. Six State protocols</h2>\n",
    "\n",
    "Let's investigate some properties of the BB84 vs. Six state protocols! First of all, let's consider how well an eavesdropper can guess the bits $x$ without yet knowning the basis information. Evidently, this will then cause some disturbance though to be detected by Alice and Bob...\n",
    "\n",
    "<h4> BB84</h4>\n",
    "Rembember that if Alice wants to send a bit $x \\in \\{0,1\\}$, she encodes it into the basis $\\theta$, where we will identify $\\theta = 0$ with the standard and $\\theta = 1$ with the Hadamard basis. That is, \n",
    "$$\n",
    "x = 0 \\rightarrow \\left\\{ \\begin{array}{ll} |0\\rangle & \\theta = 0\\\\\n",
    "|+\\rangle & \\theta = 1\n",
    "\\end{array}\\right.\n",
    "$$\n",
    "and\n",
    "$$\n",
    "x = 1 \\rightarrow \\left\\{ \\begin{array}{ll} |1\\rangle & \\theta = 0\\\\\n",
    "|-\\rangle & \\theta = 1\n",
    "\\end{array}\\right.\n",
    "$$\n",
    "Let us call $|x\\rangle_{\\theta}$ the bit $x$ encoded in the basis $\\theta$.\n",
    "\n",
    "<h4>Six state </h4>\n",
    "In the six state protocol, let $\\theta \\in \\{0,1,2\\}$, where $\\theta=0$ and $\\theta=1$ again refer to the standard and Hadamard basis respectively. $\\theta = 2$ refers to the third basis\n",
    "$$\n",
    "|0_2\\rangle = \\frac{1}{\\sqrt{2}}(|0\\rangle + i |1\\rangle)\n",
    "$$\n",
    "and\n",
    "$$\n",
    "|1_2\\rangle = \\frac{1}{\\sqrt{2}}(|0\\rangle - i |1\\rangle)\n",
    "$$\n",
    "So\n",
    "$$\n",
    "x = 0 \\rightarrow \\left\\{ \\begin{array}{ll} |0\\rangle & \\theta = 0\\\\\n",
    "|+\\rangle & \\theta = 1 \\\\\n",
    "|0_2\\rangle & \\theta = 2\n",
    "\\end{array}\\right.\n",
    "$$\n",
    "and\n",
    "$$\n",
    "x = 1 \\rightarrow \\left\\{ \\begin{array}{ll} |1\\rangle & \\theta = 0\\\\\n",
    "|-\\rangle & \\theta = 1\\\\\n",
    "|1_2\\rangle & \\theta = 2\n",
    "\\end{array}\\right.\n",
    "$$\n",
    "<h4>Finding $x$</h4>\n",
    "\n",
    "For both the BB84 and the Six State schemes, we can consider the probability that a measurement allows us to guess $x$ with some probability. Without loss of generality, we can use two measurement operations $M_0$ and $M_1$ corresponding to guesses of $x=0$ and $x=1$ respectively. The success probability if we have no information about $x$, i.e. $p(x=0) = p(x=1) = 1/2$ for BB84, and $p(x=0)=p(x=1)=p(x=2)=1/3$ for the Six State is then given by\n",
    "$$\n",
    "p_{\\rm guess} = \\frac{1}{2} Tr[M_0 \\rho_0] + \\frac{1}{2} Tr[M_1 \\rho_1]\\ .\n",
    "$$\n",
    "Let's have a look on how well a measurement in the standard basis would do to determine $x$ in the six-state protocol! Go back to Week 3 for the case of BB84 :-)"
   ]
  },
  {
   "cell_type": "code",
   "execution_count": null,
   "metadata": {
    "collapsed": false
   },
   "outputs": [],
   "source": [
    "# Define the states rho0 and rho1 from elements |x_theta>\n",
    "# Start by defining |0>=|0_0> and |1>=|1_0>\n",
    "s0 = [1;0]; \n",
    "s1 = [0;1];\n",
    "\n",
    "# Now |+>=|0_1> and |->=|1_1>\n",
    "h0 = [1;1]/sqrt(2);\n",
    "h1 = [1;-1]/sqrt(2);\n",
    "\n",
    "# Now |0_2> and |1_2>\n",
    "k0 = [1;im]/sqrt(2);\n",
    "k1 = [1;-im]/sqrt(2);\n",
    "\n",
    "# Now for rho0 and rho1\n",
    "rho0 = 1/3 * s0*s0' + 1/3 * h0*h0' + 1/3 * k0*k0';\n",
    "rho1 = 1/3 * s1*s1' + 1/3 * h1*h1' + 1/3 * k1*k1';\n",
    "\n",
    "# Let's see what they look like\n",
    "print(\"Rho0 = \",round(rho0,3),\"\\n\\n\");\n",
    "print(\"Rho1 = \",round(rho1,3))"
   ]
  },
  {
   "cell_type": "code",
   "execution_count": null,
   "metadata": {
    "collapsed": false
   },
   "outputs": [],
   "source": [
    "# Let's pick a simple measurement: measuring in the standard basis!\n",
    "M0 = s0*s0';\n",
    "M1 = s1*s1';\n",
    "\n",
    "pguess = 1/2 * trace(M0 * rho0) + 1/2 * trace(M1 * rho1);\n",
    "\n",
    "# Display rounding to 3 digits\n",
    "print(\"The success probability is \", round(pguess,3));"
   ]
  },
  {
   "cell_type": "markdown",
   "metadata": {},
   "source": [
    "What happens to the state after the measurement? Use your computations in Week3 for BB84, and perform similar investigations for the six state protocol. "
   ]
  },
  {
   "cell_type": "code",
   "execution_count": null,
   "metadata": {
    "collapsed": true
   },
   "outputs": [],
   "source": [
    "# Your Julia code here"
   ]
  },
  {
   "cell_type": "markdown",
   "metadata": {},
   "source": [
    "<h3 style=\"color:#00A6D6;\"> edX Exercise 1</h3>\n",
    "<ol>\n",
    "\n",
    "<li> Determine the probability to guess $x$ for the six-state protocol maximized over all measurements $\\{M_0,M_1\\}$. Write Julia code to compute the success probability maximized over all possible measurements $M_0$ and $M_1$, and enter the final answer into edX, rounded to 3 digits.<br/></li>\n",
    "\n",
    "\n",
    "<li> Compare the case of BB84 from Week3, and the success probability for the six-state protocol. What do you conclude?<br/></li>\n",
    "\n",
    "<li> Determine the post-measurement states when using the optimal measurement to guess $x$ in both cases. Compute the trace distances of the initial states $\\rho_x$ as well as the post-measurement states. Give your answer in edX rounded to 3 digits for both BB84 as well as the Six State protocol.<br/></li>\n",
    "\n",
    "<li>For which protocol (BB84 or Six State) would it be easier for Bob to detect that Eve performed this optimal measurement? (Note: in general Bob of course has no knowledge what Eve does, but let's assume for the sake of this exercise he knows she makes the optimal measurement to guess $x$)<br/></li>\n",
    "</ol>"
   ]
  },
  {
   "cell_type": "code",
   "execution_count": null,
   "metadata": {
    "collapsed": true
   },
   "outputs": [],
   "source": [
    "# Your Julia Code here!"
   ]
  },
  {
   "cell_type": "markdown",
   "metadata": {},
   "source": [
    "<h3 style=\"color:#00A6D6;\">edX Exercise 2</h3>\n",
    "For both the BB84 protocol, and the Six State protocol, write down the cq-state $\\rho_{XE}$ where $E$ is the system that Eve sees traversing the wire (where Eve does not know the basis $\\theta$!).\n",
    "\n",
    "<ol>\n",
    "<li>Compute the min-entropy $H_{\\rm min}(X|E)$ for both cases. Enter the answer into edX rounded to 3 digits.<br/></li>\n",
    "\n",
    "\n",
    "<li>How does the min-entropy for the six-state and BB84 measurements compare?<br/></li>\n",
    "</ol>\n"
   ]
  },
  {
   "cell_type": "code",
   "execution_count": null,
   "metadata": {
    "collapsed": true
   },
   "outputs": [],
   "source": [
    "# Your Julia Code here!"
   ]
  },
  {
   "cell_type": "markdown",
   "metadata": {},
   "source": [
    "<a id=Tra></a>\n",
    "<h2 style=\"color:#00A6D6;\">QKD in the presence of noise</h2>\n",
    "\n",
    "Transmitting qubits over a quantum communication channel will invariably lead to noise. In BB84 or six-state let us consider the string $x=x_1,\\ldots,x_n$ of Alice, where Bob measured in the same basis that Alice used to encode the bits. If there is no noise, then the string $\\tilde{x} = \\tilde{x}_1,\\ldots,\\tilde{x}_n$ of Bob has the property that $x_j = \\tilde{x}_j$ and we can produce key.\n",
    "\n",
    "But what if there <i>is</i> noise? In Week 5, you already saw a way to deal with key distribution if Bob only has a noisy version $\\tilde{x}$ of Alice's string $x$. Fortunately, the same kind of error-correction schemes will also work for QKD: after all we just perform error correction on the classical strings! (see also Lecture notes).\n",
    "\n",
    "But how does a particular quantum noise affecting our qubits translate into an error on the bits in the string?\n",
    "\n",
    "Let's consider two simple kinds of noise processes which are quite common. The first is called dephasing noise. Intuitively, it leaves the state intact with probability $p$, but applies a bitflip operation in one basis with probability $1-p$.\n",
    "\n",
    "$$\n",
    "\\mbox{Dephasing noise: }\\qquad Dephase(\\rho) = p\\ \\rho + (1-p)\\ X \\rho X\\ \n",
    "$$\n",
    "\n",
    "Another source of noise is called depolarizing noise. It leaves the state intact with probability $p$, but outputs the maximally mixed state with probability $1-p$. \n",
    "\n",
    "$$\n",
    "\\mbox{Depolarizing noise: }\\qquad Depol(\\rho) = p\\ \\rho + (1-p)\\ \\frac{\\mathbb{I}}{2}\n",
    "$$"
   ]
  },
  {
   "cell_type": "markdown",
   "metadata": {
    "collapsed": false
   },
   "source": [
    "<h3 style=\"color:#00A6D6;\">edX Exercise 3</h3>\n",
    "Compute the disturbance caused by both types of noise. \n",
    "\n",
    "For the 4 BB84 states, compute the trace distance between the original state, and the dephased and depolarized states. Enter your answer into edX rounded to 3 digits."
   ]
  },
  {
   "cell_type": "code",
   "execution_count": null,
   "metadata": {
    "collapsed": true
   },
   "outputs": [],
   "source": [
    "# Your Julia Code here!"
   ]
  },
  {
   "cell_type": "markdown",
   "metadata": {},
   "source": [
    "<h3 style=\"color:#00A6D6;\">edX Exercise 4</h3>\n",
    "To select a suitable error-correcting code, we would like to know the probability that such forms of quantum noise cause a bit flip error!\n",
    "<ol>\n",
    "<li>For the BB84 Scheme, find the probability that Bob's bit is flipped for both Dephasing and Depolarizing noise with $p=0.9$.<br/></li>\n",
    "<li>Do the same for the six-state scheme<br/></li>\n",
    "<li>Do both depolarizing and dephasing noise affect all bases equally?<br/></li>\n",
    "\n",
    "</ol>"
   ]
  },
  {
   "cell_type": "code",
   "execution_count": null,
   "metadata": {
    "collapsed": true
   },
   "outputs": [],
   "source": [
    "# Your Julia Code here!"
   ]
  },
  {
   "cell_type": "markdown",
   "metadata": {},
   "source": [
    "<h3 style=\"color:#00A6D6;\">Bonus Discussion</h3>\n",
    "Go to the Askalot forum on this Julia Sheet! Discuss how you could employ error-correction in QKD for both dephasing and depolarizing noise. Are there differences?\n",
    "\n",
    "For yourself (and you may share your plots!), plot the bit error rate as a function of the probabilities $p$ for both dephasing and depolarizing noise. \n",
    "\n",
    "Discuss on the form for what values of $p$ you might still hope to produce any key!\n"
   ]
  },
  {
   "cell_type": "code",
   "execution_count": null,
   "metadata": {
    "collapsed": true
   },
   "outputs": [],
   "source": [
    "# Your Julia code here!"
   ]
  },
  {
   "cell_type": "markdown",
   "metadata": {
    "collapsed": true
   },
   "source": [
    "<a rel=\"license\" href=\"http://creativecommons.org/licenses/by-nc/4.0/\"><img alt=\"Creative Commons License\" style=\"border-width:0\" src=\"https://i.creativecommons.org/l/by-nc/4.0/88x31.png\" /></a><br /><span xmlns:dct=\"http://purl.org/dc/terms/\" property=\"dct:title\">Week 3 Exercises for QuCryptoX</span> by David Elkouss and Stephanie Wehner for <a xmlns:cc=\"http://creativecommons.org/ns#\" href=\"http://qutech.nl/edu/\" property=\"cc:attributionName\" rel=\"cc:attributionURL\">QuTech Academy</a> is licensed under a <a rel=\"license\" href=\"http://creativecommons.org/licenses/by-nc/4.0/\">Creative Commons Attribution-NonCommercial 4.0 International License</a>."
   ]
  }
 ],
 "metadata": {
  "anaconda-cloud": {},
  "kernelspec": {
   "display_name": "Julia 0.5.0",
   "language": "julia",
   "name": "julia-0.5"
  },
  "language_info": {
   "file_extension": ".jl",
   "mimetype": "application/julia",
   "name": "julia",
   "version": "0.5.0"
  }
 },
 "nbformat": 4,
 "nbformat_minor": 0
}
